{
 "cells": [
  {
   "cell_type": "markdown",
   "metadata": {
    "colab_type": "text",
    "id": "view-in-github"
   },
   "source": [
    "<a href=\"https://colab.research.google.com/github/jot240/Cassignment1/blob/master/DistrictHeating.ipynb\" target=\"_parent\"><img src=\"https://colab.research.google.com/assets/colab-badge.svg\" alt=\"Open In Colab\"/></a>"
   ]
  },
  {
   "cell_type": "code",
   "execution_count": 89,
   "metadata": {
    "colab": {
     "base_uri": "https://localhost:8080/"
    },
    "id": "pPuddfGlU95s",
    "outputId": "383d9727-63ae-4fae-b2b2-50fdf9c457ae"
   },
   "outputs": [
    {
     "name": "stdout",
     "output_type": "stream",
     "text": [
      "Requirement already satisfied: pulp in /usr/local/lib/python3.7/dist-packages (2.4)\n",
      "Requirement already satisfied: amply>=0.1.2 in /usr/local/lib/python3.7/dist-packages (from pulp) (0.1.4)\n",
      "Requirement already satisfied: pyparsing in /usr/local/lib/python3.7/dist-packages (from amply>=0.1.2->pulp) (2.4.7)\n",
      "Requirement already satisfied: docutils>=0.3 in /usr/local/lib/python3.7/dist-packages (from amply>=0.1.2->pulp) (0.16)\n"
     ]
    }
   ],
   "source": [
    "!pip install pulp"
   ]
  },
  {
   "cell_type": "code",
   "execution_count": 90,
   "metadata": {
    "id": "azWmfKP28-pR"
   },
   "outputs": [],
   "source": [
    "from pulp import *\r\n",
    "import pandas as pd\r\n",
    "import numpy as np\r\n",
    "from math import *"
   ]
  },
  {
   "cell_type": "code",
   "execution_count": 91,
   "metadata": {
    "id": "s2mZ74hFDDjW"
   },
   "outputs": [],
   "source": [
    "   def read_excel_data(filename, sheet_name):\r\n",
    "      data = pd.read_excel(filename, sheet_name=sheet_name, header=None)\r\n",
    "      values = data.values\r\n",
    "      return values"
   ]
  },
  {
   "cell_type": "code",
   "execution_count": 92,
   "metadata": {
    "id": "41POby3_EKDH"
   },
   "outputs": [],
   "source": [
    "file1 = \"InputDataEnergySmallInstance.xlsx\"\r\n",
    "v0 = read_excel_data(file1,\"SourceNum\")#location of first node\r\n",
    "vi = read_excel_data(file1,\"Nodes\") #number of nodes\r\n",
    "v_cord = read_excel_data(file1,\"NodesCord\") # nodes coordinates\r\n",
    "theta_ij_fix = read_excel_data(file1,\"vfix(thetaijfix)\")#Vfix cost\r\n",
    "theta_ij_var = read_excel_data(file1,\"vvar(thetaijvar)\")#Vvar cost\r\n",
    "fixed_unit_cost = read_excel_data(file1,\"FixedUnitCost\")#cost for 1 unit\r\n",
    "c_heat = read_excel_data(file1,\"cheat(ciheat)\")# heat cost for verticie i\r\n",
    "c_ij_var = read_excel_data(file1,\"cvar(cijvar)\")#variable cost for edge ij\r\n",
    "c_ij_om = read_excel_data(file1,\"com(cijom)\")# operations+maintenence cost for edge ij\r\n",
    "c_ij_rev = read_excel_data(file1,\"crev(cijrev)\") #revenue for edge ij\r\n",
    "t_full_load_hours = read_excel_data(file1,\"Tflh(Tiflh)\") #operation time of source verticis\r\n",
    "beta = read_excel_data(file1,\"Betta\")#concurrence effect parameter\r\n",
    "connection_quota = read_excel_data(file1,\"Lambda\") #connection quota parameter (lamda in paper)\r\n",
    "alpha = read_excel_data(file1,\"Alpha\")# annuity factor for investment costs\r\n",
    "d_ij_peak = read_excel_data(file1,\"EdgesDemandPeak(dij)\")#peak demand for edges ij (kW)\r\n",
    "d_ij_annual = read_excel_data(file1,\"EdgesDemandAnnual(Dij)\")#annual demand for edges ij (kWh/year)\r\n",
    "cap_ij_max = read_excel_data(file1,\"Cmax(cijmax)\")#maximum pipe capacity for edge (kW)\r\n",
    "cap_source_max = read_excel_data(file1,\"SourceMaxCap(Qimax)\")#(Qimax)Maximum heat generation capacity for source i (kW)\r\n",
    "p_umd = read_excel_data(file1,\"pumd(pijumd)\")#(pumd)unmet demand penalty for edge ij\r\n"
   ]
  },
  {
   "cell_type": "code",
   "execution_count": 93,
   "metadata": {
    "id": "X9WhuSoGaNYG"
   },
   "outputs": [],
   "source": [
    " #Create decision Variables\r\n",
    "node_num = vi[0][0]\r\n",
    "source_loc = v0[0][0]\r\n",
    "set_I = [*range(node_num)] #nodes\r\n",
    "#generate matrix l_ij\r\n",
    "distances_ij = np.zeros(shape=(node_num,node_num))\r\n",
    "for i in set_I:\r\n",
    "  for j in set_I:\r\n",
    "    distances_ij[i][j] = sqrt((v_cord[i][0]- v_cord[j][0])**2 + (v_cord[i][1]-v_cord[j][1])**2)\r\n",
    "\r\n",
    "x_ij =  LpVariable.dicts('x', (set_I, set_I ),0,1, \"Binary\")\r\n",
    "p_in_ij = LpVariable.dicts('pin', (set_I,set_I),lowBound=0)\r\n",
    "p_out_ij = LpVariable.dicts('pout', (set_I,set_I),lowBound=0)\r\n",
    "\r\n"
   ]
  },
  {
   "cell_type": "code",
   "execution_count": 94,
   "metadata": {
    "id": "XO6mWU9fSlaR"
   },
   "outputs": [],
   "source": [
    "\r\n",
    "#make problem\r\n",
    "district_heating = LpProblem(\"district_heating\",LpMinimize)\r\n",
    "revenue = lpSum(x_ij[i][j]* d_ij_annual[i-1][j-1]*c_ij_rev[i-1][j-1]*connection_quota[0][0] for i in set_I for j in set_I)\r\n",
    "heat_gen_cost = lpSum(t_full_load_hours[0][0] * c_heat[source_loc][0] * p_in_ij[source_loc][j]/ beta[0][0] for j in set_I)\r\n",
    "maintenance_cost = lpSum(c_ij_om[i-1][j-1]* distances_ij[i][j]*x_ij[i][j] for i in set_I for j in set_I)\r\n",
    "fixed_invest_cost = lpSum(fixed_unit_cost[0][0] * distances_ij[i][j]* alpha[0][0] *x_ij[i][j] for i in set_I for j in set_I )\r\n",
    "variable_invest_cost = lpSum(c_ij_var[i-1][j-1]* distances_ij[i][j]* alpha[0][0]* p_in_ij[i][j] for i in set_I for j in set_I)\r\n",
    "umd_pen_cost = lpSum(d_ij_annual[i-1][j-1] * p_umd[i-1][j-1]* (1-x_ij[i][j]-x_ij[j][i]) for i in set_I for j in set_I )\r\n"
   ]
  },
  {
   "cell_type": "code",
   "execution_count": 95,
   "metadata": {
    "id": "xpQAtP21WuHt"
   },
   "outputs": [],
   "source": [
    "district_heating += heat_gen_cost + maintenance_cost + fixed_invest_cost + variable_invest_cost + umd_pen_cost - revenue"
   ]
  },
  {
   "cell_type": "code",
   "execution_count": 98,
   "metadata": {
    "id": "mOTvERsIXalb"
   },
   "outputs": [],
   "source": [
    "#constraints\r\n",
    "#Tree structure\r\n",
    "district_heating += lpSum(x_ij[i][j] for i in set_I for j in set_I) == node_num -1\r\n",
    "#Unidirectionality\r\n",
    "for i in set_I:\r\n",
    "  for j in set_I:\r\n",
    "    district_heating += x_ij[i][j] + x_ij[j][i]  <= 1\r\n",
    "#Demand Satisfaction\r\n",
    "for i in set_I:\r\n",
    "  for j in set_I:\r\n",
    "    district_heating += lpSum((1 - distances_ij[i][j]*theta_ij_var[i-1][j-1])*p_in_ij[i][j] - p_out_ij[i][j] ) == lpSum((distances_ij[i][j] *theta_ij_fix[i-1][j-1] + d_ij_peak[i-1][j-1]*connection_quota[0][0] *beta[0][0])*x_ij[i][j] )\r\n",
    "#flow equilibrium\r\n",
    "for i in set_I:\r\n",
    "  for j in set_I:\r\n",
    "    if (j!=i and j != source_loc):\r\n",
    "      district_heating += lpSum(p_in_ij[i][j]-p_out_ij[i][j]) == 0\r\n",
    "#edge capacity\r\n",
    "for i in set_I:\r\n",
    "  for j in set_I:\r\n",
    "    district_heating += lpSum(p_in_ij[i][j]) <= lpSum(cap_ij_max[i-1][j-1])\r\n",
    "#source structure\r\n",
    "for j in set_I:\r\n",
    "  district_heating += lpSum(x_ij[j][source_loc]) ==0\r\n",
    "#Source heat generation capacity\r\n",
    "for j in set_I:\r\n",
    "  district_heating += lpSum(p_in_ij[source_loc][j] ) <= cap_source_max[source_loc][0]\r\n",
    "#Tour elimination\r\n",
    "for i in set_I: \r\n",
    "  for j in set_I:\r\n",
    "    if (i!=j and i != source_loc):\r\n",
    "      district_heating +=lpSum(x_ij[j][i]) >= 1\r\n",
    "\r\n",
    "\r\n"
   ]
  },
  {
   "cell_type": "markdown",
   "metadata": {
    "id": "mLnbp9g2Z48R"
   },
   "source": [
    "<H1> Solving problem"
   ]
  },
  {
   "cell_type": "code",
   "execution_count": 99,
   "metadata": {
    "colab": {
     "base_uri": "https://localhost:8080/"
    },
    "id": "Ji8QErpJfd1h",
    "outputId": "e58027a3-a96c-4806-f2fa-445c484ea6f0"
   },
   "outputs": [
    {
     "name": "stdout",
     "output_type": "stream",
     "text": [
      "Status: Infeasible\n",
      "pin_0_0 = 0.0\n",
      "pin_0_1 = -76541.746\n",
      "pin_0_2 = -106329.32\n",
      "pin_0_3 = -71781.965\n",
      "pin_0_4 = 0.0\n",
      "pin_0_5 = -96588.0\n",
      "pin_0_6 = 611.3526\n",
      "pin_0_7 = -117945.1\n",
      "pin_1_0 = -104741.34\n",
      "pin_1_1 = 0.0\n",
      "pin_1_2 = -107816.19\n",
      "pin_1_3 = -61709.259\n",
      "pin_1_4 = 0.0\n",
      "pin_1_5 = -80452.984\n",
      "pin_1_6 = 468.69481\n",
      "pin_1_7 = -69983.381\n",
      "pin_2_0 = -111645.79\n",
      "pin_2_1 = -81940.301\n",
      "pin_2_2 = 0.0\n",
      "pin_2_3 = 645.76815\n",
      "pin_2_4 = 0.0\n",
      "pin_2_5 = -84055.172\n",
      "pin_2_6 = -97336.43\n",
      "pin_2_7 = 662.40935\n",
      "pin_3_0 = -92291.098\n",
      "pin_3_1 = -83307.5\n",
      "pin_3_2 = 646.17969\n",
      "pin_3_3 = 0.0\n",
      "pin_3_4 = 0.0\n",
      "pin_3_5 = -96394.564\n",
      "pin_3_6 = -86123.077\n",
      "pin_3_7 = -57095.477\n",
      "pin_4_0 = 676.13217\n",
      "pin_4_1 = 400.29157\n",
      "pin_4_2 = 232.35638\n",
      "pin_4_3 = 617.4457\n",
      "pin_4_4 = 0.0\n",
      "pin_4_5 = 299.66695\n",
      "pin_4_6 = 480.53266\n",
      "pin_4_7 = 615.4987\n",
      "pin_5_0 = -96490.0\n",
      "pin_5_1 = -83432.724\n",
      "pin_5_2 = -112073.56\n",
      "pin_5_3 = -96394.564\n",
      "pin_5_4 = 0.0\n",
      "pin_5_5 = 0.0\n",
      "pin_5_6 = -76712.16\n",
      "pin_5_7 = -93507.054\n",
      "pin_6_0 = 610.76874\n",
      "pin_6_1 = 468.29496\n",
      "pin_6_2 = 4172193.4\n",
      "pin_6_3 = -93300.0\n",
      "pin_6_4 = 0.0\n",
      "pin_6_5 = -76712.16\n",
      "pin_6_6 = 0.0\n",
      "pin_6_7 = -85621.585\n",
      "pin_7_0 = -112328.67\n",
      "pin_7_1 = -83313.548\n",
      "pin_7_2 = 664.01454\n",
      "pin_7_3 = -55056.353\n",
      "pin_7_4 = 0.0\n",
      "pin_7_5 = -93507.054\n",
      "pin_7_6 = -72936.906\n",
      "pin_7_7 = 0.0\n",
      "pout_0_0 = 0.0\n",
      "pout_0_1 = -76541.746\n",
      "pout_0_2 = -106329.32\n",
      "pout_0_3 = -71781.965\n",
      "pout_0_4 = 0.0\n",
      "pout_0_5 = -96588.0\n",
      "pout_0_6 = 0.0\n",
      "pout_0_7 = -117945.1\n",
      "pout_1_0 = -104741.34\n",
      "pout_1_1 = 0.0\n",
      "pout_1_2 = -107816.19\n",
      "pout_1_3 = -61709.259\n",
      "pout_1_4 = 0.0\n",
      "pout_1_5 = -80452.984\n",
      "pout_1_6 = 0.0\n",
      "pout_1_7 = -69983.381\n",
      "pout_2_0 = -111645.79\n",
      "pout_2_1 = -81940.301\n",
      "pout_2_2 = 0.0\n",
      "pout_2_3 = 0.0\n",
      "pout_2_4 = 0.0\n",
      "pout_2_5 = -84055.172\n",
      "pout_2_6 = -97336.43\n",
      "pout_2_7 = 0.0\n",
      "pout_3_0 = -92291.098\n",
      "pout_3_1 = -83307.5\n",
      "pout_3_2 = 0.0\n",
      "pout_3_3 = 0.0\n",
      "pout_3_4 = 0.0\n",
      "pout_3_5 = -96394.564\n",
      "pout_3_6 = -86123.077\n",
      "pout_3_7 = -57095.477\n",
      "pout_4_0 = 0.0\n",
      "pout_4_1 = 0.0\n",
      "pout_4_2 = 0.0\n",
      "pout_4_3 = 0.0\n",
      "pout_4_4 = 0.0\n",
      "pout_4_5 = 0.0\n",
      "pout_4_6 = 0.0\n",
      "pout_4_7 = 0.0\n",
      "pout_5_0 = -96490.0\n",
      "pout_5_1 = -83432.724\n",
      "pout_5_2 = -112073.56\n",
      "pout_5_3 = -96394.564\n",
      "pout_5_4 = 0.0\n",
      "pout_5_5 = 0.0\n",
      "pout_5_6 = -76712.16\n",
      "pout_5_7 = -93507.054\n",
      "pout_6_0 = 0.0\n",
      "pout_6_1 = 0.0\n",
      "pout_6_2 = 4172193.4\n",
      "pout_6_3 = -93300.0\n",
      "pout_6_4 = 0.0\n",
      "pout_6_5 = -76712.16\n",
      "pout_6_6 = 0.0\n",
      "pout_6_7 = -85621.585\n",
      "pout_7_0 = -112328.67\n",
      "pout_7_1 = -83313.548\n",
      "pout_7_2 = 0.0\n",
      "pout_7_3 = -55056.353\n",
      "pout_7_4 = 0.0\n",
      "pout_7_5 = -93507.054\n",
      "pout_7_6 = -72936.906\n",
      "pout_7_7 = 0.0\n",
      "x_0_0 = 0.0\n",
      "x_0_1 = 1.0\n",
      "x_0_2 = 1.0\n",
      "x_0_3 = 1.0\n",
      "x_0_4 = 0.0\n",
      "x_0_5 = 1.0\n",
      "x_0_6 = 1.0\n",
      "x_0_7 = 1.0\n",
      "x_1_0 = 1.0\n",
      "x_1_1 = 0.0\n",
      "x_1_2 = 1.0\n",
      "x_1_3 = 1.0\n",
      "x_1_4 = 0.0\n",
      "x_1_5 = 1.0\n",
      "x_1_6 = 1.0\n",
      "x_1_7 = 1.0\n",
      "x_2_0 = 1.0\n",
      "x_2_1 = 1.0\n",
      "x_2_2 = 0.0\n",
      "x_2_3 = 1.0\n",
      "x_2_4 = 0.0\n",
      "x_2_5 = 1.0\n",
      "x_2_6 = 1.0\n",
      "x_2_7 = 1.0\n",
      "x_3_0 = 1.0\n",
      "x_3_1 = 1.0\n",
      "x_3_2 = 1.0\n",
      "x_3_3 = 0.0\n",
      "x_3_4 = 0.0\n",
      "x_3_5 = 1.0\n",
      "x_3_6 = 1.0\n",
      "x_3_7 = 1.0\n",
      "x_4_0 = 1.0\n",
      "x_4_1 = 1.0\n",
      "x_4_2 = 1.0\n",
      "x_4_3 = 1.0\n",
      "x_4_4 = 0.0\n",
      "x_4_5 = 1.0\n",
      "x_4_6 = 1.0\n",
      "x_4_7 = 1.0\n",
      "x_5_0 = 1.0\n",
      "x_5_1 = 1.0\n",
      "x_5_2 = 1.0\n",
      "x_5_3 = 1.0\n",
      "x_5_4 = 0.0\n",
      "x_5_5 = 0.0\n",
      "x_5_6 = 1.0\n",
      "x_5_7 = 1.0\n",
      "x_6_0 = 1.0\n",
      "x_6_1 = 1.0\n",
      "x_6_2 = -41.0\n",
      "x_6_3 = 1.0\n",
      "x_6_4 = 0.0\n",
      "x_6_5 = 1.0\n",
      "x_6_6 = 0.0\n",
      "x_6_7 = 1.0\n",
      "x_7_0 = 1.0\n",
      "x_7_1 = 1.0\n",
      "x_7_2 = 1.0\n",
      "x_7_3 = 1.0\n",
      "x_7_4 = 0.0\n",
      "x_7_5 = 1.0\n",
      "x_7_6 = 1.0\n",
      "x_7_7 = 0.0\n",
      "Objective value district heating =  98923924.45507513\n"
     ]
    }
   ],
   "source": [
    "LpSolverDefault.msg = 1\r\n",
    "district_heating.solve()\r\n",
    "print(\"Status:\", LpStatus[district_heating.status])\r\n",
    "for v in district_heating.variables():\r\n",
    "      print(v.name, \"=\", v.varValue)\r\n",
    "\r\n",
    "print (\"Objective value district heating = \", value(district_heating.objective))"
   ]
  }
 ],
 "metadata": {
  "colab": {
   "collapsed_sections": [],
   "include_colab_link": true,
   "name": "DistrictHeating.ipynb",
   "provenance": []
  },
  "kernelspec": {
   "display_name": "Python 3",
   "name": "python3"
  }
 },
 "nbformat": 4,
 "nbformat_minor": 0
}
